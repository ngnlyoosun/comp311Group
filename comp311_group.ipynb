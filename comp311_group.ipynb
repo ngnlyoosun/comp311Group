{
 "cells": [
  {
   "cell_type": "code",
   "execution_count": 1,
   "id": "d82297d4-2cd5-4bf3-8cda-ae4f19a06e87",
   "metadata": {},
   "outputs": [
    {
     "name": "stdout",
     "output_type": "stream",
     "text": [
      "Hello World\n"
     ]
    }
   ],
   "source": [
    "print(\"Hello World\")"
   ]
  },
  {
   "cell_type": "code",
   "execution_count": 2,
   "id": "a31ef315-6d6b-44ae-b901-9354881a8ade",
   "metadata": {},
   "outputs": [
    {
     "name": "stdout",
     "output_type": "stream",
     "text": [
      "Comp 311 Group Assignment\n"
     ]
    }
   ],
   "source": [
    "print(\"Comp 311 Group Assignment\")"
   ]
  },
  {
   "cell_type": "code",
   "execution_count": null,
   "id": "49595182-7b29-4cb7-a0c7-c273140ab4d7",
   "metadata": {},
   "outputs": [],
   "source": []
  }
 ],
 "metadata": {
  "kernelspec": {
   "display_name": "Python 3 (ipykernel)",
   "language": "python",
   "name": "python3"
  },
  "language_info": {
   "codemirror_mode": {
    "name": "ipython",
    "version": 3
   },
   "file_extension": ".py",
   "mimetype": "text/x-python",
   "name": "python",
   "nbconvert_exporter": "python",
   "pygments_lexer": "ipython3",
   "version": "3.9.7"
  }
 },
 "nbformat": 4,
 "nbformat_minor": 5
}
