{
 "cells": [
  {
   "cell_type": "code",
   "execution_count": 23,
   "id": "76428d9a-51ba-4683-89dc-0c0d0797c69b",
   "metadata": {},
   "outputs": [],
   "source": [
    "group = ['YooSun','Yusuke', 'Olivia','Jaan']"
   ]
  },
  {
   "cell_type": "code",
   "execution_count": 24,
   "id": "fc10c243-49c3-482b-b3ff-ffce92ef6ddc",
   "metadata": {},
   "outputs": [],
   "source": [
    "num = 0"
   ]
  },
  {
   "cell_type": "code",
   "execution_count": 25,
   "id": "1c10edae-2f72-4e5b-b3ae-f45726aa7973",
   "metadata": {},
   "outputs": [
    {
     "name": "stdout",
     "output_type": "stream",
     "text": [
      "1 : Hello I am YooSun\n",
      "2 : Hello I am Yusuke\n",
      "3 : Hello I am Olivia\n",
      "4 : Hello I am Jaan\n",
      "We are group 01!\n"
     ]
    }
   ],
   "source": [
    "for member in group:\n",
    "    num = num +1\n",
    "    print(\"{0} : Hello I am {1}\".format(num,member))\n",
    "\n",
    "print(\"We are group 01!\")\n",
    "    \n",
    "    "
   ]
  },
  {
   "cell_type": "code",
   "execution_count": null,
   "id": "ba50f915-a9ab-46ea-8116-324fe8dc7475",
   "metadata": {},
   "outputs": [],
   "source": []
  }
 ],
 "metadata": {
  "kernelspec": {
   "display_name": "Python 3 (ipykernel)",
   "language": "python",
   "name": "python3"
  },
  "language_info": {
   "codemirror_mode": {
    "name": "ipython",
    "version": 3
   },
   "file_extension": ".py",
   "mimetype": "text/x-python",
   "name": "python",
   "nbconvert_exporter": "python",
   "pygments_lexer": "ipython3",
   "version": "3.9.7"
  }
 },
 "nbformat": 4,
 "nbformat_minor": 5
}
